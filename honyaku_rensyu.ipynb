{
 "cells": [
  {
   "cell_type": "code",
   "execution_count": 1,
   "id": "6518c694-6530-4ca9-b69a-1353178628b7",
   "metadata": {
    "tags": []
   },
   "outputs": [],
   "source": [
    "text = \"\"\"\n",
    "I have a dream that one day this nation will rise up and live out the true meaning of its creed: 'We hold these truths to be self-evident, that all men are created equal.\n",
    "I have a dream that one day on the red hills of Georgia, the sons of former slaves and the sons of former slave owners will be able to sit together at the table of brotherhood.\n",
    "I have a dream that one day even the state of Mississippi, a state sweltering with the heat of injustice, sweltering with the heat of oppression, will be transformed into an oasis of freedom and justice.\n",
    "\"\"\""
   ]
  },
  {
   "cell_type": "code",
   "execution_count": 7,
   "id": "eddf3f1a-fa4b-485b-9b76-42f116e41f7d",
   "metadata": {
    "tags": []
   },
   "outputs": [],
   "source": [
    "sentences = text.split('.')"
   ]
  },
  {
   "cell_type": "code",
   "execution_count": 8,
   "id": "0c0ff94c-9d24-4eac-bb04-40702f83e36f",
   "metadata": {
    "tags": []
   },
   "outputs": [],
   "source": [
    "def create_yaku():\n",
    "    bubunyaku = input()\n",
    "    return bubunyaku\n",
    "\n",
    "def make_notes(sentences):\n",
    "    i = 0\n",
    "    yaku = \"\"\n",
    "    def f():\n",
    "        nonlocal i, yaku\n",
    "        try:\n",
    "            ret = sentences[i].replace('\\n', '') + '.'\n",
    "            print(ret)\n",
    "            i += 1\n",
    "            yaku += create_yaku()\n",
    "            return yaku\n",
    "        except IndexError:\n",
    "            return None\n",
    "    return f"
   ]
  },
  {
   "cell_type": "code",
   "execution_count": 9,
   "id": "e421db0f-e462-4a1e-add1-0d97151d9c03",
   "metadata": {
    "tags": []
   },
   "outputs": [],
   "source": [
    "f = make_notes(sentences)"
   ]
  },
  {
   "cell_type": "code",
   "execution_count": null,
   "id": "124c0b07-17de-4a1c-abd7-061438fb8a7b",
   "metadata": {},
   "outputs": [
    {
     "name": "stdout",
     "output_type": "stream",
     "text": [
      "I have a dream that one day this nation will rise up and live out the true meaning of its creed: 'We hold these truths to be self-evident, that all men are created equal.\n"
     ]
    }
   ],
   "source": [
    "while True:\n",
    "    f()\n",
    "    print()"
   ]
  }
 ],
 "metadata": {
  "kernelspec": {
   "display_name": "Python 3 (ipykernel)",
   "language": "python",
   "name": "python3"
  },
  "language_info": {
   "codemirror_mode": {
    "name": "ipython",
    "version": 3
   },
   "file_extension": ".py",
   "mimetype": "text/x-python",
   "name": "python",
   "nbconvert_exporter": "python",
   "pygments_lexer": "ipython3",
   "version": "3.11.3"
  }
 },
 "nbformat": 4,
 "nbformat_minor": 5
}
