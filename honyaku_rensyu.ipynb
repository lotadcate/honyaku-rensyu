{
 "cells": [
  {
   "cell_type": "code",
   "execution_count": 1,
   "id": "6518c694-6530-4ca9-b69a-1353178628b7",
   "metadata": {
    "tags": []
   },
   "outputs": [],
   "source": [
    "text = \"\"\"\\\n",
    "ありがとう.\n",
    "こんにちは.\n",
    "さようなら.\n",
    "\"\"\""
   ]
  },
  {
   "cell_type": "code",
   "execution_count": 2,
   "id": "eddf3f1a-fa4b-485b-9b76-42f116e41f7d",
   "metadata": {
    "tags": []
   },
   "outputs": [],
   "source": [
    "sentences = text.split('.')"
   ]
  },
  {
   "cell_type": "code",
   "execution_count": 3,
   "id": "0c0ff94c-9d24-4eac-bb04-40702f83e36f",
   "metadata": {
    "tags": []
   },
   "outputs": [],
   "source": [
    "def create_yaku():\n",
    "    bubunyaku = input()\n",
    "    return bubunyaku\n",
    "\n",
    "def make_notes(sentences):\n",
    "    i = 0\n",
    "    yaku = \"\"\n",
    "    def f():\n",
    "        nonlocal i, yaku\n",
    "        try:\n",
    "            ret = sentences[i].replace('\\n', '') + '.'\n",
    "            print(ret)\n",
    "            yaku = create_yaku() + \"\\n\\n\"\n",
    "            kumi = \"\\n\".join([ret, yaku])\n",
    "            with open(\"a.txt\", 'a') as f:\n",
    "                f.write(kumi)\n",
    "                f.close()\n",
    "            i += 1\n",
    "            return yaku\n",
    "        except IndexError:\n",
    "            return None\n",
    "    return f"
   ]
  },
  {
   "cell_type": "code",
   "execution_count": 4,
   "id": "e421db0f-e462-4a1e-add1-0d97151d9c03",
   "metadata": {
    "tags": []
   },
   "outputs": [],
   "source": [
    "f = make_notes(sentences)"
   ]
  },
  {
   "cell_type": "code",
   "execution_count": 5,
   "id": "124c0b07-17de-4a1c-abd7-061438fb8a7b",
   "metadata": {},
   "outputs": [
    {
     "name": "stdout",
     "output_type": "stream",
     "text": [
      "【1/4】\n",
      "ありがとう.\n"
     ]
    },
    {
     "name": "stdin",
     "output_type": "stream",
     "text": [
      " Thank you.\n"
     ]
    },
    {
     "name": "stdout",
     "output_type": "stream",
     "text": [
      "\n",
      "【2/4】\n",
      "こんにちは.\n"
     ]
    },
    {
     "name": "stdin",
     "output_type": "stream",
     "text": [
      " Hello.\n"
     ]
    },
    {
     "name": "stdout",
     "output_type": "stream",
     "text": [
      "\n",
      "【3/4】\n",
      "さようなら.\n"
     ]
    },
    {
     "name": "stdin",
     "output_type": "stream",
     "text": [
      " Bye.\n"
     ]
    },
    {
     "name": "stdout",
     "output_type": "stream",
     "text": [
      "\n",
      "【4/4】\n",
      ".\n"
     ]
    },
    {
     "name": "stdin",
     "output_type": "stream",
     "text": [
      " END\n"
     ]
    },
    {
     "name": "stdout",
     "output_type": "stream",
     "text": [
      "\n"
     ]
    }
   ],
   "source": [
    "i = 0\n",
    "n = len(sentences)\n",
    "while i != n:\n",
    "    i += 1\n",
    "    print(f'【{i}/{n}】')\n",
    "    f()\n",
    "    print()"
   ]
  },
  {
   "cell_type": "code",
   "execution_count": null,
   "id": "4f43c19e-3fc3-491d-97f1-01e27ceaeb35",
   "metadata": {},
   "outputs": [],
   "source": []
  }
 ],
 "metadata": {
  "kernelspec": {
   "display_name": "Python 3 (ipykernel)",
   "language": "python",
   "name": "python3"
  },
  "language_info": {
   "codemirror_mode": {
    "name": "ipython",
    "version": 3
   },
   "file_extension": ".py",
   "mimetype": "text/x-python",
   "name": "python",
   "nbconvert_exporter": "python",
   "pygments_lexer": "ipython3",
   "version": "3.11.3"
  }
 },
 "nbformat": 4,
 "nbformat_minor": 5
}
